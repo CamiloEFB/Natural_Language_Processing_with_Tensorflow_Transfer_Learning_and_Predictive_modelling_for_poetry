{
  "nbformat": 4,
  "nbformat_minor": 0,
  "metadata": {
    "accelerator": "GPU",
    "colab": {
      "name": " Natural Language Processing with transfer learning.ipynb",
      "provenance": [],
      "collapsed_sections": [],
      "include_colab_link": true
    },
    "kernelspec": {
      "display_name": "Python 3",
      "language": "python",
      "name": "python3"
    },
    "language_info": {
      "codemirror_mode": {
        "name": "ipython",
        "version": 3
      },
      "file_extension": ".py",
      "mimetype": "text/x-python",
      "name": "python",
      "nbconvert_exporter": "python",
      "pygments_lexer": "ipython3",
      "version": "3.7.6"
    }
  },
  "cells": [
    {
      "cell_type": "markdown",
      "metadata": {
        "id": "view-in-github",
        "colab_type": "text"
      },
      "source": [
        "<a href=\"https://colab.research.google.com/github/CamiloEFB/Natural_Language_Processing_with_Tensorflow_Transfer_Learning_and_Predictive_modelling_for_poetry/blob/main/Natural_Language_Processing_with_transfer_learning.ipynb\" target=\"_parent\"><img src=\"https://colab.research.google.com/assets/colab-badge.svg\" alt=\"Open In Colab\"/></a>"
      ]
    },
    {
      "cell_type": "markdown",
      "metadata": {
        "id": "QBvQYSD3Jabf"
      },
      "source": [
        "# Natural Language Processing  "
      ]
    },
    {
      "cell_type": "markdown",
      "metadata": {
        "id": "I7X2eg9JBeFI"
      },
      "source": [
        "<a href=\"https://colab.research.google.com/github/lmoroney/dlaicourse/blob/master/TensorFlow%20In%20Practice/Course%203%20-%20NLP/NLP%20Course%20-%20Week%203%20Exercise%20Answer.ipynb\" target=\"_parent\"><img src=\"https://colab.research.google.com/assets/colab-badge.svg\" alt=\"Open In Colab\"/></a>"
      ]
    },
    {
      "cell_type": "markdown",
      "metadata": {
        "id": "LMmDDR0cJDNZ"
      },
      "source": [
        "First, let's import a few common modules, ensure MatplotLib plots figures inline and prepare a function to save the figures. also add the basics like numpy, tensorflow, keras etc."
      ]
    },
    {
      "cell_type": "code",
      "metadata": {
        "id": "hmA6EzkQJ5jt"
      },
      "source": [
        "import json\n",
        "import tensorflow as tf\n",
        "import csv\n",
        "import random\n",
        "import numpy as np\n",
        "import os\n",
        "# to make this notebook's output stable across runs\n",
        "np.random.seed(42)\n",
        "\n",
        "from tensorflow import keras\n",
        "from tensorflow.keras.preprocessing.text import Tokenizer\n",
        "from tensorflow.keras.preprocessing.sequence import pad_sequences\n",
        "from tensorflow.keras.utils import to_categorical\n",
        "from tensorflow.keras import regularizers\n",
        "\n",
        "\n",
        "embedding_dim = 100\n",
        "max_length = 16\n",
        "trunc_type='post'\n",
        "padding_type='post'\n",
        "oov_tok = \"<OOV>\"\n",
        "training_size=160000\n",
        "test_portion=.1\n",
        "\n",
        "corpus = []\n",
        "\n",
        "# Where to save the figures\n",
        "PROJECT_ROOT_DIR = \".\"\n",
        "CHAPTER_ID = \"deep\"\n",
        "IMAGES_PATH = os.path.join(PROJECT_ROOT_DIR, \"images\", CHAPTER_ID)\n",
        "os.makedirs(IMAGES_PATH, exist_ok=True)\n",
        "\n",
        "def save_fig(fig_id, tight_layout=True, fig_extension=\"png\", resolution=300):\n",
        "    path = os.path.join(IMAGES_PATH, fig_id + \".\" + fig_extension)\n",
        "    print(\"Saving figure\", fig_id)\n",
        "    if tight_layout:\n",
        "        plt.tight_layout()\n",
        "    plt.savefig(path, format=fig_extension, dpi=resolution)\n"
      ],
      "execution_count": 7,
      "outputs": []
    },
    {
      "cell_type": "markdown",
      "metadata": {
        "id": "FCsYwTl8J5XG"
      },
      "source": [
        "# Download the data \n",
        "with which we are going to work and save it in the tmp folder"
      ]
    },
    {
      "cell_type": "code",
      "metadata": {
        "colab": {
          "base_uri": "https://localhost:8080/"
        },
        "id": "bM0l_dORKqE0",
        "outputId": "86fcca6c-78a6-4b39-84e5-cce3b9495d8f"
      },
      "source": [
        "# Note that I cleaned the Stanford dataset to remove LATIN1 encoding to make it easier for Python CSV reader\n",
        "# You can do that yourself with:\n",
        "# iconv -f LATIN1 -t UTF8 training.1600000.processed.noemoticon.csv -o training_cleaned.csv\n",
        "# I then hosted it on my site to make it easier to use in this notebook\n",
        "\n",
        "!wget --no-check-certificate \\\n",
        "    https://storage.googleapis.com/laurencemoroney-blog.appspot.com/training_cleaned.csv \\\n",
        "    -O /tmp/training_cleaned.csv\n",
        "\n",
        "num_sentences = 0\n",
        "\n",
        "with open(\"/tmp/training_cleaned.csv\") as csvfile:\n",
        "    reader = csv.reader(csvfile, delimiter=',')\n",
        "    for row in reader:\n",
        "        list_item=[]\n",
        "        list_item.append(row[5])\n",
        "        this_label=row[0]\n",
        "        if this_label=='0':\n",
        "            list_item.append(0)\n",
        "        else:\n",
        "            list_item.append(1)\n",
        "        num_sentences = num_sentences + 1\n",
        "        corpus.append(list_item)\n"
      ],
      "execution_count": 8,
      "outputs": [
        {
          "output_type": "stream",
          "text": [
            "--2021-06-14 21:12:50--  https://storage.googleapis.com/laurencemoroney-blog.appspot.com/training_cleaned.csv\n",
            "Resolving storage.googleapis.com (storage.googleapis.com)... 172.217.164.144, 172.253.62.128, 172.253.115.128, ...\n",
            "Connecting to storage.googleapis.com (storage.googleapis.com)|172.217.164.144|:443... connected.\n",
            "HTTP request sent, awaiting response... 200 OK\n",
            "Length: 238942690 (228M) [application/octet-stream]\n",
            "Saving to: ‘/tmp/training_cleaned.csv’\n",
            "\n",
            "/tmp/training_clean 100%[===================>] 227.87M   182MB/s    in 1.3s    \n",
            "\n",
            "2021-06-14 21:12:51 (182 MB/s) - ‘/tmp/training_cleaned.csv’ saved [238942690/238942690]\n",
            "\n"
          ],
          "name": "stdout"
        }
      ]
    },
    {
      "cell_type": "markdown",
      "metadata": {
        "id": "V4Hch4aYOeUW"
      },
      "source": [
        "check that it was saved **correctly**"
      ]
    },
    {
      "cell_type": "code",
      "metadata": {
        "colab": {
          "base_uri": "https://localhost:8080/"
        },
        "id": "3kxblBUjEUX-",
        "outputId": "bdb3f7c5-4999-43b0-efd0-0e0a1f8ab746"
      },
      "source": [
        "print(num_sentences)\n",
        "print(len(corpus))\n",
        "print(corpus[1])\n",
        "\n",
        "# Expected Output:\n",
        "# 1600000\n",
        "# 1600000\n",
        "# [\"is upset that he can't update his Facebook by texting it... and might cry as a result  School today also. Blah!\", 0]"
      ],
      "execution_count": 9,
      "outputs": [
        {
          "output_type": "stream",
          "text": [
            "1600000\n",
            "1600000\n",
            "[\"is upset that he can't update his Facebook by texting it... and might cry as a result  School today also. Blah!\", 0]\n"
          ],
          "name": "stdout"
        }
      ]
    },
    {
      "cell_type": "markdown",
      "metadata": {
        "id": "2OPK3UkIOr2p"
      },
      "source": [
        "# Prepare the data\n",
        "first we separate the data in corpus X and labels Y. we apply [tokenizer ](https://www.tensorflow.org/api_docs/python/tf/keras/preprocessing/text/Tokenizer/)that converts the words into numbers, and [padding](https://www.tensorflow.org/api_docs/python/tf/pad) so that all the words are in the same context and finally there is a separation between training set and test set and between sequences and labels"
      ]
    },
    {
      "cell_type": "code",
      "metadata": {
        "id": "ohOGz24lsNAD"
      },
      "source": [
        "sentences=[]\n",
        "labels=[]\n",
        "random.shuffle(corpus)\n",
        "for x in range(training_size):\n",
        "    sentences.append(corpus[x][0])\n",
        "    labels.append(corpus[x][1])\n",
        "\n",
        "\n",
        "tokenizer = Tokenizer()\n",
        "tokenizer.fit_on_texts(sentences)\n",
        "\n",
        "word_index = tokenizer.word_index\n",
        "vocab_size=len(word_index)\n",
        "\n",
        "sequences = tokenizer.texts_to_sequences(sentences)\n",
        "padded = pad_sequences(sequences, maxlen=max_length, padding=padding_type, truncating=trunc_type)\n",
        "\n",
        "split = int(test_portion * training_size)\n",
        "\n",
        "test_sequences = padded[0:split]\n",
        "training_sequences = padded[split:training_size]\n",
        "test_labels = labels[0:split]\n",
        "training_labels = labels[split:training_size]"
      ],
      "execution_count": 10,
      "outputs": []
    },
    {
      "cell_type": "markdown",
      "metadata": {
        "id": "FTdB23y9Sk_v"
      },
      "source": [
        "check that it was saved **correctly**"
      ]
    },
    {
      "cell_type": "code",
      "metadata": {
        "colab": {
          "base_uri": "https://localhost:8080/"
        },
        "id": "gIrtRem1En3N",
        "outputId": "3a4dc385-3f25-474f-ef4c-4eeb9c60be80"
      },
      "source": [
        "print(vocab_size)\n",
        "print(word_index['i'])\n",
        "# Expected Output\n",
        "# 138810\n",
        "# 1"
      ],
      "execution_count": 11,
      "outputs": [
        {
          "output_type": "stream",
          "text": [
            "138810\n",
            "1\n"
          ],
          "name": "stdout"
        }
      ]
    },
    {
      "cell_type": "markdown",
      "metadata": {
        "id": "jUw1ERG7SrsQ"
      },
      "source": [
        "# Transfer learning\n",
        "\n",
        "The embeddings that will transfer learn from are called the GloVe, also known as Global Vectors for Word Representation, available at: https://nlp.stanford.edu/projects/glove/"
      ]
    },
    {
      "cell_type": "code",
      "metadata": {
        "colab": {
          "base_uri": "https://localhost:8080/"
        },
        "id": "C1zdgJkusRh0",
        "outputId": "3e2a9ac6-b770-4524-be96-faef2cf12cb4"
      },
      "source": [
        "# Note this is the 100 dimension version of GloVe from Stanford\n",
        "# I unzipped and hosted it on my site to make this notebook easier\n",
        "!wget --no-check-certificate \\\n",
        "    https://resources.oreilly.com/conferences/natural-language-processing-with-deep-learning/raw/master/data/glove.6B.100d.txt \\\n",
        "    -O /tmp/glove.6B.100d.txt\n",
        "embeddings_index = {};\n",
        "with open('/tmp/glove.6B.100d.txt') as f:\n",
        "    for line in f:\n",
        "        values = line.split();\n",
        "        word = values[0];\n",
        "        coefs = np.asarray(values[1:], dtype='float32');\n",
        "        embeddings_index[word] = coefs;\n",
        "\n",
        "embeddings_matrix = np.zeros((vocab_size+1, embedding_dim));\n",
        "for word, i in word_index.items():\n",
        "    embedding_vector = embeddings_index.get(word);\n",
        "    if embedding_vector is not None:\n",
        "        embeddings_matrix[i] = embedding_vector;"
      ],
      "execution_count": 12,
      "outputs": [
        {
          "output_type": "stream",
          "text": [
            "--2021-06-14 21:13:06--  https://resources.oreilly.com/conferences/natural-language-processing-with-deep-learning/raw/master/data/glove.6B.100d.txt\n",
            "Resolving resources.oreilly.com (resources.oreilly.com)... 199.27.144.213, 199.27.144.212\n",
            "Connecting to resources.oreilly.com (resources.oreilly.com)|199.27.144.213|:443... connected.\n",
            "HTTP request sent, awaiting response... 200 OK\n",
            "Length: 347116733 (331M) [text/plain]\n",
            "Saving to: ‘/tmp/glove.6B.100d.txt’\n",
            "\n",
            "/tmp/glove.6B.100d. 100%[===================>] 331.04M  7.05MB/s    in 42s     \n",
            "\n",
            "2021-06-14 21:13:49 (7.85 MB/s) - ‘/tmp/glove.6B.100d.txt’ saved [347116733/347116733]\n",
            "\n"
          ],
          "name": "stdout"
        }
      ]
    },
    {
      "cell_type": "markdown",
      "metadata": {
        "id": "0gu0b92hZKYX"
      },
      "source": [
        "check that it was saved **correctly**"
      ]
    },
    {
      "cell_type": "code",
      "metadata": {
        "colab": {
          "base_uri": "https://localhost:8080/"
        },
        "id": "71NLk_lpFLNt",
        "outputId": "cc4e38dd-aa20-46fe-b5c6-426047d696f2"
      },
      "source": [
        "print(len(embeddings_matrix))\n",
        "# Expected Output\n",
        "# 138811"
      ],
      "execution_count": 13,
      "outputs": [
        {
          "output_type": "stream",
          "text": [
            "138811\n"
          ],
          "name": "stdout"
        }
      ]
    },
    {
      "cell_type": "markdown",
      "metadata": {
        "id": "ZNVPuBScZWqZ"
      },
      "source": [
        "# Build the model\n",
        "This is a sequential model that uses the transfer learning weights for greater effectiveness and with regularizations such as **batch normalization**, **alphadrop**, and filters like **Conv1d** and that we use `kernel_initializer=he_normal` and activation elu as well as **early stopping** an optimizer like nadam with a `learning_rate=4e-4` we run it in **100 epochs** but not before getting a summary of the model with `model.summary()`.\n",
        "\n",
        "This was the model that gave me the best results\n",
        "\n"
      ]
    },
    {
      "cell_type": "code",
      "metadata": {
        "id": "iKKvbuEBOGFz",
        "colab": {
          "base_uri": "https://localhost:8080/"
        },
        "outputId": "e2c1c289-1ea6-4191-d2c1-497ec07534d9"
      },
      "source": [
        "model = tf.keras.Sequential([\n",
        "    tf.keras.layers.Embedding(vocab_size+1, embedding_dim, input_length=max_length, weights=[embeddings_matrix], trainable=False),\n",
        "    tf.keras.layers.BatchNormalization(),\n",
        "    tf.keras.layers.AlphaDropout(rate=0.2),\n",
        "    tf.keras.layers.Conv1D(256, 5, kernel_initializer=\"he_normal\",\n",
        "                                 activation=\"elu\"),\n",
        "    tf.keras.layers.MaxPooling1D(pool_size=4),\n",
        "    tf.keras.layers.Bidirectional(tf.keras.layers.LSTM(128, return_sequences=True)),\n",
        "    tf.keras.layers.Bidirectional(tf.keras.layers.LSTM(64)),\n",
        "    tf.keras.layers.Dense(1, activation='sigmoid')\n",
        "])\n",
        "optimizer = keras.optimizers.Nadam(learning_rate=4e-4)\n",
        "model.compile(loss='binary_crossentropy',optimizer=optimizer ,metrics=['accuracy'])\n",
        "model.summary()\n",
        "\n",
        "early_stopping_cb = keras.callbacks.EarlyStopping(patience=20)\n",
        "model_checkpoint_cb = keras.callbacks.ModelCheckpoint(\"my_nlp3_alpha_dropout_model.h5\", save_best_only=True)\n",
        "run_index = 1 # increment every time you train the model\n",
        "run_logdir = os.path.join(os.curdir, \"my_nlp3_alpha_logs\", \"run_alpha_dropout_{:03d}\".format(run_index))\n",
        "tensorboard_cb = keras.callbacks.TensorBoard(run_logdir)\n",
        "callbacks = [early_stopping_cb, tensorboard_cb]\n",
        "\n",
        "num_epochs = 100\n",
        "\n",
        "training_padded = np.array(training_sequences)\n",
        "training_labels = np.array(training_labels)\n",
        "testing_padded = np.array(test_sequences)\n",
        "testing_labels = np.array(test_labels)\n",
        "\n",
        "history = model.fit(training_padded, training_labels, epochs=num_epochs, validation_data=(testing_padded, testing_labels),callbacks=callbacks , verbose=2)\n",
        "\n",
        "print(\"Training Complete\")"
      ],
      "execution_count": 15,
      "outputs": [
        {
          "output_type": "stream",
          "text": [
            "Model: \"sequential_1\"\n",
            "_________________________________________________________________\n",
            "Layer (type)                 Output Shape              Param #   \n",
            "=================================================================\n",
            "embedding_1 (Embedding)      (None, 16, 100)           13881100  \n",
            "_________________________________________________________________\n",
            "batch_normalization_1 (Batch (None, 16, 100)           400       \n",
            "_________________________________________________________________\n",
            "alpha_dropout_1 (AlphaDropou (None, 16, 100)           0         \n",
            "_________________________________________________________________\n",
            "conv1d_1 (Conv1D)            (None, 12, 256)           128256    \n",
            "_________________________________________________________________\n",
            "max_pooling1d_1 (MaxPooling1 (None, 3, 256)            0         \n",
            "_________________________________________________________________\n",
            "bidirectional_2 (Bidirection (None, 3, 256)            394240    \n",
            "_________________________________________________________________\n",
            "bidirectional_3 (Bidirection (None, 128)               164352    \n",
            "_________________________________________________________________\n",
            "dense_1 (Dense)              (None, 1)                 129       \n",
            "=================================================================\n",
            "Total params: 14,568,477\n",
            "Trainable params: 687,177\n",
            "Non-trainable params: 13,881,300\n",
            "_________________________________________________________________\n",
            "Epoch 1/100\n",
            "4500/4500 - 96s - loss: 0.6022 - accuracy: 0.6676 - val_loss: 0.5479 - val_accuracy: 0.7147\n",
            "Epoch 2/100\n",
            "4500/4500 - 56s - loss: 0.5582 - accuracy: 0.7080 - val_loss: 0.5255 - val_accuracy: 0.7333\n",
            "Epoch 3/100\n",
            "4500/4500 - 56s - loss: 0.5383 - accuracy: 0.7229 - val_loss: 0.5123 - val_accuracy: 0.7461\n",
            "Epoch 4/100\n",
            "4500/4500 - 56s - loss: 0.5232 - accuracy: 0.7337 - val_loss: 0.5106 - val_accuracy: 0.7447\n",
            "Epoch 5/100\n",
            "4500/4500 - 55s - loss: 0.5111 - accuracy: 0.7436 - val_loss: 0.5053 - val_accuracy: 0.7496\n",
            "Epoch 6/100\n",
            "4500/4500 - 55s - loss: 0.4999 - accuracy: 0.7515 - val_loss: 0.5032 - val_accuracy: 0.7498\n",
            "Epoch 7/100\n",
            "4500/4500 - 55s - loss: 0.4910 - accuracy: 0.7579 - val_loss: 0.4973 - val_accuracy: 0.7552\n",
            "Epoch 8/100\n",
            "4500/4500 - 56s - loss: 0.4804 - accuracy: 0.7635 - val_loss: 0.4951 - val_accuracy: 0.7563\n",
            "Epoch 9/100\n",
            "4500/4500 - 55s - loss: 0.4699 - accuracy: 0.7715 - val_loss: 0.4972 - val_accuracy: 0.7496\n",
            "Epoch 10/100\n",
            "4500/4500 - 56s - loss: 0.4602 - accuracy: 0.7778 - val_loss: 0.4963 - val_accuracy: 0.7549\n",
            "Epoch 11/100\n",
            "4500/4500 - 55s - loss: 0.4519 - accuracy: 0.7822 - val_loss: 0.5041 - val_accuracy: 0.7508\n",
            "Epoch 12/100\n",
            "4500/4500 - 56s - loss: 0.4430 - accuracy: 0.7889 - val_loss: 0.5111 - val_accuracy: 0.7533\n",
            "Epoch 13/100\n",
            "4500/4500 - 55s - loss: 0.4351 - accuracy: 0.7919 - val_loss: 0.5028 - val_accuracy: 0.7544\n",
            "Epoch 14/100\n",
            "4500/4500 - 56s - loss: 0.4263 - accuracy: 0.7985 - val_loss: 0.5086 - val_accuracy: 0.7554\n",
            "Epoch 15/100\n",
            "4500/4500 - 55s - loss: 0.4165 - accuracy: 0.8042 - val_loss: 0.5186 - val_accuracy: 0.7440\n",
            "Epoch 16/100\n",
            "4500/4500 - 55s - loss: 0.4085 - accuracy: 0.8091 - val_loss: 0.5192 - val_accuracy: 0.7529\n",
            "Epoch 17/100\n",
            "4500/4500 - 54s - loss: 0.4026 - accuracy: 0.8120 - val_loss: 0.5151 - val_accuracy: 0.7512\n",
            "Epoch 18/100\n",
            "4500/4500 - 54s - loss: 0.3951 - accuracy: 0.8167 - val_loss: 0.5248 - val_accuracy: 0.7482\n",
            "Epoch 19/100\n",
            "4500/4500 - 54s - loss: 0.3878 - accuracy: 0.8211 - val_loss: 0.5391 - val_accuracy: 0.7490\n",
            "Epoch 20/100\n",
            "4500/4500 - 54s - loss: 0.3813 - accuracy: 0.8246 - val_loss: 0.5336 - val_accuracy: 0.7467\n",
            "Epoch 21/100\n",
            "4500/4500 - 53s - loss: 0.3765 - accuracy: 0.8286 - val_loss: 0.5406 - val_accuracy: 0.7394\n",
            "Epoch 22/100\n",
            "4500/4500 - 53s - loss: 0.3708 - accuracy: 0.8301 - val_loss: 0.5542 - val_accuracy: 0.7494\n",
            "Epoch 23/100\n",
            "4500/4500 - 53s - loss: 0.3652 - accuracy: 0.8336 - val_loss: 0.5523 - val_accuracy: 0.7424\n",
            "Epoch 24/100\n",
            "4500/4500 - 53s - loss: 0.3600 - accuracy: 0.8370 - val_loss: 0.5422 - val_accuracy: 0.7489\n",
            "Epoch 25/100\n",
            "4500/4500 - 53s - loss: 0.3544 - accuracy: 0.8392 - val_loss: 0.5679 - val_accuracy: 0.7368\n",
            "Epoch 26/100\n",
            "4500/4500 - 54s - loss: 0.3505 - accuracy: 0.8416 - val_loss: 0.5708 - val_accuracy: 0.7441\n",
            "Epoch 27/100\n",
            "4500/4500 - 54s - loss: 0.3471 - accuracy: 0.8440 - val_loss: 0.5605 - val_accuracy: 0.7437\n",
            "Epoch 28/100\n",
            "4500/4500 - 53s - loss: 0.3409 - accuracy: 0.8469 - val_loss: 0.5865 - val_accuracy: 0.7427\n",
            "Training Complete\n"
          ],
          "name": "stdout"
        }
      ]
    },
    {
      "cell_type": "markdown",
      "metadata": {
        "id": "Zl4B9ESugEJk"
      },
      "source": [
        "This model gave the best results with an accuracy of 84.69% and a val_accuracy of 74.27%, it is a little overfitting but it is within the parameters and with early stopping it stopped at `epoch 28/100.`\n",
        "\n",
        "then the accuracy, val_accuracy, loss and val_loss will be graphed"
      ]
    },
    {
      "cell_type": "code",
      "metadata": {
        "colab": {
          "base_uri": "https://localhost:8080/",
          "height": 608
        },
        "id": "8sK7jhzi_8DJ",
        "outputId": "809dd129-994d-4b3e-9a8d-db646dc34f78"
      },
      "source": [
        "import matplotlib.image  as mpimg\n",
        "import matplotlib.pyplot as plt\n",
        "\n",
        "#-----------------------------------------------------------\n",
        "# Retrieve a list of list results on training and test data\n",
        "# sets for each training epoch\n",
        "#-----------------------------------------------------------\n",
        "acc=history.history['accuracy']\n",
        "val_acc=history.history['val_accuracy']\n",
        "loss=history.history['loss']\n",
        "val_loss=history.history['val_loss']\n",
        "\n",
        "epochs=range(len(acc)) # Get number of epochs\n",
        "\n",
        "#------------------------------------------------\n",
        "# Plot training and validation accuracy per epoch\n",
        "#------------------------------------------------\n",
        "plt.plot(epochs, acc, 'r')\n",
        "plt.plot(epochs, val_acc, 'b')\n",
        "plt.title('Training and validation accuracy')\n",
        "plt.xlabel(\"Epochs\")\n",
        "plt.ylabel(\"Accuracy\")\n",
        "plt.legend([\"Accuracy\", \"Validation Accuracy\"])\n",
        "\n",
        "plt.figure()\n",
        "\n",
        "#------------------------------------------------\n",
        "# Plot training and validation loss per epoch\n",
        "#------------------------------------------------\n",
        "plt.plot(epochs, loss, 'r')\n",
        "plt.plot(epochs, val_loss, 'b')\n",
        "plt.title('Training and validation loss')\n",
        "plt.xlabel(\"Epochs\")\n",
        "plt.ylabel(\"Loss\")\n",
        "plt.legend([\"Loss\", \"Validation Loss\"])\n",
        "\n",
        "plt.figure()\n",
        "\n",
        "\n",
        "# Expected Output\n",
        "# A chart where the validation loss does not increase sharply!"
      ],
      "execution_count": 16,
      "outputs": [
        {
          "output_type": "execute_result",
          "data": {
            "text/plain": [
              "<Figure size 432x288 with 0 Axes>"
            ]
          },
          "metadata": {
            "tags": []
          },
          "execution_count": 16
        },
        {
          "output_type": "display_data",
          "data": {
            "image/png": "[encoded data removed]",
            "text/plain": [
              "<Figure size 432x288 with 1 Axes>"
            ]
          },
          "metadata": {
            "tags": [],
            "needs_background": "light"
          }
        },
        {
          "output_type": "display_data",
          "data": {
            "image/png": "[encoded data removed]",
            "text/plain": [
              "<Figure size 432x288 with 1 Axes>"
            ]
          },
          "metadata": {
            "tags": [],
            "needs_background": "light"
          }
        },
        {
          "output_type": "display_data",
          "data": {
            "text/plain": [
              "<Figure size 432x288 with 0 Axes>"
            ]
          },
          "metadata": {
            "tags": []
          }
        }
      ]
    },
    {
      "cell_type": "markdown",
      "metadata": {
        "id": "34kWKhixksoj"
      },
      "source": [
        "You can clearly see that accuracy goes up while val_accuracy stagnates this shows overfitting, and the loss and val_loss the first decreases over time the second is basically stagnant"
      ]
    }
  ]
}